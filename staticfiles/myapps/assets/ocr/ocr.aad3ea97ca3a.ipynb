{
 "cells": [
  {
   "cell_type": "markdown",
   "metadata": {},
   "source": [
    "# Digit Recognition using Keras Sequential Model (CNN)"
   ]
  },
  {
   "cell_type": "markdown",
   "metadata": {},
   "source": [
    "### By Nitish R. Devadiga\n",
    "##### Last Modified: 05/07/2020"
   ]
  },
  {
   "cell_type": "markdown",
   "metadata": {},
   "source": [
    "## Import Libraries"
   ]
  },
  {
   "cell_type": "code",
   "execution_count": 1,
   "metadata": {},
   "outputs": [],
   "source": [
    "import pandas as pd\n",
    "import numpy as np\n",
    "import matplotlib.pyplot as plt\n",
    "from matplotlib import style\n",
    "import datetime as dt\n",
    "import tensorflow as tf\n",
    "from sklearn.metrics import confusion_matrix\n",
    "from sklearn.model_selection import train_test_split\n",
    "import math\n",
    "import warnings\n",
    "\n",
    "%matplotlib inline\n",
    "#style.use('seaborn')"
   ]
  },
  {
   "cell_type": "markdown",
   "metadata": {},
   "source": [
    "### Use GPU Acceleration"
   ]
  },
  {
   "cell_type": "code",
   "execution_count": 2,
   "metadata": {},
   "outputs": [
    {
     "name": "stdout",
     "output_type": "stream",
     "text": [
      "TensorFlow Version: 2.2.0\n",
      "Default GPU: /device:GPU:0\n",
      "Num GPUs: 1\n"
     ]
    }
   ],
   "source": [
    "print(\"TensorFlow Version: {}\".format(tf.__version__))\n",
    "if not tf.test.gpu_device_name():\n",
    "    warnings.warn('No GPU found...')\n",
    "else:\n",
    "    print('Default GPU: {}'.format(tf.test.gpu_device_name()))\n",
    "\n",
    "physical_devices = tf.config.list_physical_devices('GPU')\n",
    "print(\"Num GPUs:\", len(physical_devices))"
   ]
  },
  {
   "cell_type": "markdown",
   "metadata": {},
   "source": [
    "## Load MNIST DATASET"
   ]
  },
  {
   "cell_type": "code",
   "execution_count": 3,
   "metadata": {},
   "outputs": [
    {
     "name": "stdout",
     "output_type": "stream",
     "text": [
      "(60000, 28, 28, 1)\n",
      "(10000, 28, 28, 1)\n"
     ]
    }
   ],
   "source": [
    "(x_train, y_train), (x_test, y_test) = tf.keras.datasets.mnist.load_data()\n",
    "x_train = x_train.reshape(x_train.shape[0],x_train.shape[1],x_train.shape[2],1).astype('float32')\n",
    "x_test = x_test.reshape(x_test.shape[0],x_test.shape[1],x_test.shape[2],1).astype('float32')\n",
    "#y_train = tf.keras.utils.to_categorical(y_train)\n",
    "#y_test = tf.keras.utils.to_categorical(y_test)\n",
    "print(x_train.shape)\n",
    "print(x_test.shape)"
   ]
  },
  {
   "cell_type": "markdown",
   "metadata": {},
   "source": [
    "### Normalize the dataset"
   ]
  },
  {
   "cell_type": "code",
   "execution_count": 4,
   "metadata": {},
   "outputs": [],
   "source": [
    "x_train = tf.keras.utils.normalize(x_train, axis=1)\n",
    "x_test = tf.keras.utils.normalize(x_test, axis=1)"
   ]
  },
  {
   "cell_type": "markdown",
   "metadata": {},
   "source": [
    "### Visualize a random data"
   ]
  },
  {
   "cell_type": "code",
   "execution_count": 12,
   "metadata": {},
   "outputs": [
    {
     "name": "stdout",
     "output_type": "stream",
     "text": [
      "Training Size:  60000\n",
      "Testing Size:  10000\n"
     ]
    },
    {
     "data": {
      "text/plain": [
       "<matplotlib.image.AxesImage at 0x16236244e50>"
      ]
     },
     "execution_count": 12,
     "metadata": {},
     "output_type": "execute_result"
    },
    {
     "data": {
      "image/png": "[encoded data removed]",
      "text/plain": [
       "<Figure size 432x288 with 1 Axes>"
      ]
     },
     "metadata": {
      "needs_background": "light"
     },
     "output_type": "display_data"
    }
   ],
   "source": [
    "import random\n",
    "print(\"Training Size: \", len(x_train))\n",
    "print(\"Testing Size: \", len(x_test))\n",
    "#print(x_train[0].shape)\n",
    "plt.imshow(x_train[random.randint(0,60000)].reshape(28,28))"
   ]
  },
  {
   "cell_type": "markdown",
   "metadata": {},
   "source": [
    "### Preprocess the image by making the pixels have hard edges"
   ]
  },
  {
   "cell_type": "code",
   "execution_count": 13,
   "metadata": {},
   "outputs": [],
   "source": [
    "for x in x_train:\n",
    "    x[x>0.2] = 1\n",
    "    x[x<0.05] = 0\n",
    "    \n",
    "for x in x_test:\n",
    "    x[x>0.2] = 1\n",
    "    x[x<0.05] = 0"
   ]
  },
  {
   "cell_type": "code",
   "execution_count": 21,
   "metadata": {},
   "outputs": [
    {
     "data": {
      "text/plain": [
       "<matplotlib.image.AxesImage at 0x162594ac760>"
      ]
     },
     "execution_count": 21,
     "metadata": {},
     "output_type": "execute_result"
    },
    {
     "data": {
      "image/png": "[encoded data removed]",
      "text/plain": [
       "<Figure size 432x288 with 1 Axes>"
      ]
     },
     "metadata": {
      "needs_background": "light"
     },
     "output_type": "display_data"
    }
   ],
   "source": [
    "plt.imshow(x_test[random.randint(0,10000)].reshape(28,28))"
   ]
  },
  {
   "cell_type": "markdown",
   "metadata": {},
   "source": [
    "## Train using a Keras Sequential CNN model"
   ]
  },
  {
   "cell_type": "code",
   "execution_count": 8,
   "metadata": {},
   "outputs": [],
   "source": [
    "model = tf.keras.models.Sequential([\n",
    "    tf.keras.layers.Conv2D(8, (5,5), activation='relu', input_shape=(28, 28,1)),\n",
    "    tf.keras.layers.MaxPooling2D(2, 2),\n",
    "    tf.keras.layers.Conv2D(16, (5,5), activation='relu'),\n",
    "    #tf.keras.layers.MaxPooling2D(2, 2),\n",
    "    tf.keras.layers.Conv2D(32, (5,5), activation='relu'),\n",
    "    #tf.keras.layers.Conv2D(64, (5,5), activation='relu'),\n",
    "    tf.keras.layers.Flatten(),\n",
    "    tf.keras.layers.Dense(512, activation='relu'),\n",
    "    tf.keras.layers.Dense(128, activation='relu'),\n",
    "    tf.keras.layers.Dense(10, activation='softmax')\n",
    "])"
   ]
  },
  {
   "cell_type": "code",
   "execution_count": 9,
   "metadata": {},
   "outputs": [
    {
     "name": "stdout",
     "output_type": "stream",
     "text": [
      "Model: \"sequential\"\n",
      "_________________________________________________________________\n",
      "Layer (type)                 Output Shape              Param #   \n",
      "=================================================================\n",
      "conv2d (Conv2D)              (None, 24, 24, 8)         208       \n",
      "_________________________________________________________________\n",
      "max_pooling2d (MaxPooling2D) (None, 12, 12, 8)         0         \n",
      "_________________________________________________________________\n",
      "conv2d_1 (Conv2D)            (None, 8, 8, 16)          3216      \n",
      "_________________________________________________________________\n",
      "conv2d_2 (Conv2D)            (None, 4, 4, 32)          12832     \n",
      "_________________________________________________________________\n",
      "flatten (Flatten)            (None, 512)               0         \n",
      "_________________________________________________________________\n",
      "dense (Dense)                (None, 512)               262656    \n",
      "_________________________________________________________________\n",
      "dense_1 (Dense)              (None, 128)               65664     \n",
      "_________________________________________________________________\n",
      "dense_2 (Dense)              (None, 10)                1290      \n",
      "=================================================================\n",
      "Total params: 345,866\n",
      "Trainable params: 345,866\n",
      "Non-trainable params: 0\n",
      "_________________________________________________________________\n"
     ]
    }
   ],
   "source": [
    "model.summary()"
   ]
  },
  {
   "cell_type": "code",
   "execution_count": 10,
   "metadata": {},
   "outputs": [
    {
     "name": "stdout",
     "output_type": "stream",
     "text": [
      "Epoch 1/30\n",
      "300/300 [==============================] - 10s 34ms/step - loss: 0.8060 - accuracy: 0.7301 - val_loss: 0.1704 - val_accuracy: 0.9457\n",
      "Epoch 2/30\n",
      "300/300 [==============================] - 10s 33ms/step - loss: 0.2623 - accuracy: 0.9186 - val_loss: 0.1369 - val_accuracy: 0.9591\n",
      "Epoch 3/30\n",
      "300/300 [==============================] - 10s 33ms/step - loss: 0.1964 - accuracy: 0.9387 - val_loss: 0.1197 - val_accuracy: 0.9614\n",
      "Epoch 4/30\n",
      "300/300 [==============================] - 10s 33ms/step - loss: 0.1584 - accuracy: 0.9496 - val_loss: 0.1161 - val_accuracy: 0.9628\n",
      "Epoch 5/30\n",
      "300/300 [==============================] - 10s 33ms/step - loss: 0.1371 - accuracy: 0.9569 - val_loss: 0.0921 - val_accuracy: 0.9688\n",
      "Epoch 6/30\n",
      "300/300 [==============================] - 10s 33ms/step - loss: 0.1311 - accuracy: 0.9589 - val_loss: 0.0713 - val_accuracy: 0.9760\n",
      "Epoch 7/30\n",
      "300/300 [==============================] - 10s 33ms/step - loss: 0.1125 - accuracy: 0.9647 - val_loss: 0.0604 - val_accuracy: 0.9808\n",
      "Epoch 8/30\n",
      "300/300 [==============================] - 10s 33ms/step - loss: 0.1006 - accuracy: 0.9690 - val_loss: 0.0700 - val_accuracy: 0.9782\n",
      "Epoch 9/30\n",
      "300/300 [==============================] - 10s 33ms/step - loss: 0.1003 - accuracy: 0.9683 - val_loss: 0.1128 - val_accuracy: 0.9643\n",
      "Epoch 10/30\n",
      "300/300 [==============================] - 10s 33ms/step - loss: 0.0925 - accuracy: 0.9706 - val_loss: 0.0717 - val_accuracy: 0.9776\n",
      "Epoch 11/30\n",
      "300/300 [==============================] - 10s 32ms/step - loss: 0.0853 - accuracy: 0.9737 - val_loss: 0.0542 - val_accuracy: 0.9819\n",
      "Epoch 12/30\n",
      "300/300 [==============================] - 10s 33ms/step - loss: 0.0863 - accuracy: 0.9729 - val_loss: 0.0525 - val_accuracy: 0.9820\n",
      "Epoch 13/30\n",
      "300/300 [==============================] - 10s 33ms/step - loss: 0.0806 - accuracy: 0.9751 - val_loss: 0.0509 - val_accuracy: 0.9846\n",
      "Epoch 14/30\n",
      "300/300 [==============================] - 10s 34ms/step - loss: 0.0795 - accuracy: 0.9750 - val_loss: 0.0557 - val_accuracy: 0.9830\n",
      "Epoch 15/30\n",
      "300/300 [==============================] - 10s 33ms/step - loss: 0.0717 - accuracy: 0.9778 - val_loss: 0.0558 - val_accuracy: 0.9828\n",
      "Epoch 16/30\n",
      "300/300 [==============================] - 10s 33ms/step - loss: 0.0726 - accuracy: 0.9770 - val_loss: 0.0415 - val_accuracy: 0.9872\n",
      "Epoch 17/30\n",
      "300/300 [==============================] - 10s 33ms/step - loss: 0.0705 - accuracy: 0.9777 - val_loss: 0.0490 - val_accuracy: 0.9843\n",
      "Epoch 18/30\n",
      "300/300 [==============================] - 10s 33ms/step - loss: 0.0701 - accuracy: 0.9781 - val_loss: 0.0403 - val_accuracy: 0.9865\n",
      "Epoch 19/30\n",
      "300/300 [==============================] - 10s 33ms/step - loss: 0.0675 - accuracy: 0.9786 - val_loss: 0.0375 - val_accuracy: 0.9878\n",
      "Epoch 20/30\n",
      "300/300 [==============================] - 10s 33ms/step - loss: 0.0616 - accuracy: 0.9807 - val_loss: 0.0360 - val_accuracy: 0.9879\n",
      "Epoch 21/30\n",
      "300/300 [==============================] - 10s 34ms/step - loss: 0.0626 - accuracy: 0.9809 - val_loss: 0.0439 - val_accuracy: 0.9866\n",
      "Epoch 22/30\n",
      "300/300 [==============================] - 10s 33ms/step - loss: 0.0644 - accuracy: 0.9798 - val_loss: 0.0431 - val_accuracy: 0.9869\n",
      "Epoch 23/30\n",
      "300/300 [==============================] - 10s 33ms/step - loss: 0.0599 - accuracy: 0.9810 - val_loss: 0.0424 - val_accuracy: 0.9871\n",
      "Epoch 24/30\n",
      "300/300 [==============================] - 10s 33ms/step - loss: 0.0597 - accuracy: 0.9813 - val_loss: 0.0383 - val_accuracy: 0.9890\n",
      "Epoch 25/30\n",
      "300/300 [==============================] - 10s 33ms/step - loss: 0.0603 - accuracy: 0.9816 - val_loss: 0.0351 - val_accuracy: 0.9895\n",
      "Epoch 26/30\n",
      "300/300 [==============================] - 10s 34ms/step - loss: 0.0585 - accuracy: 0.9819 - val_loss: 0.0354 - val_accuracy: 0.9881\n",
      "Epoch 27/30\n",
      "300/300 [==============================] - 10s 33ms/step - loss: 0.0553 - accuracy: 0.9831 - val_loss: 0.0327 - val_accuracy: 0.9891\n",
      "Epoch 28/30\n",
      "300/300 [==============================] - 10s 33ms/step - loss: 0.0541 - accuracy: 0.9834 - val_loss: 0.0330 - val_accuracy: 0.9907\n",
      "Epoch 29/30\n",
      "300/300 [==============================] - 10s 33ms/step - loss: 0.0545 - accuracy: 0.9825 - val_loss: 0.0396 - val_accuracy: 0.9877\n",
      "Epoch 30/30\n",
      "300/300 [==============================] - 10s 34ms/step - loss: 0.0565 - accuracy: 0.9825 - val_loss: 0.0410 - val_accuracy: 0.9865\n"
     ]
    },
    {
     "data": {
      "text/plain": [
       "<tensorflow.python.keras.callbacks.History at 0x20144cb5970>"
      ]
     },
     "execution_count": 10,
     "metadata": {},
     "output_type": "execute_result"
    }
   ],
   "source": [
    "from tensorflow.keras.preprocessing.image import ImageDataGenerator, NumpyArrayIterator\n",
    "\n",
    "train_datagen = ImageDataGenerator(zoom_range=0.1, width_shift_range=0.2, height_shift_range=0.2, shear_range=0.1)\n",
    "test_datagen  = ImageDataGenerator()\n",
    "\n",
    "batchSize = 200\n",
    "\n",
    "train_generator = NumpyArrayIterator(x_train, y_train, train_datagen, batch_size=batchSize, shuffle=True)\n",
    "\n",
    "validation_generator =  NumpyArrayIterator(x_test,y_test, test_datagen, batch_size=batchSize)\n",
    "\n",
    "model.compile(\n",
    "    loss='sparse_categorical_crossentropy',\n",
    "    #optimizer=tf.keras.optimizers.Adam(0.001),\n",
    "    optimizer='adam',\n",
    "    metrics=['accuracy'],\n",
    ")\n",
    "\n",
    "model.fit(train_generator, validation_data=(x_test,y_test), steps_per_epoch=len(x_train)/batchSize,verbose=1, epochs=30)"
   ]
  },
  {
   "cell_type": "markdown",
   "metadata": {},
   "source": [
    "### Evaluate Model on Test Set"
   ]
  },
  {
   "cell_type": "code",
   "execution_count": 11,
   "metadata": {},
   "outputs": [
    {
     "name": "stdout",
     "output_type": "stream",
     "text": [
      "50/50 [==============================] - 0s 3ms/step - loss: 0.0410 - accuracy: 0.9865\n",
      "0.041042860597372055 0.9865000247955322\n"
     ]
    }
   ],
   "source": [
    "val_loss, val_acc = model.evaluate(validation_generator)\n",
    "print(val_loss, val_acc)"
   ]
  },
  {
   "cell_type": "code",
   "execution_count": 12,
   "metadata": {},
   "outputs": [],
   "source": [
    "predictions = model.predict(validation_generator)"
   ]
  },
  {
   "cell_type": "markdown",
   "metadata": {},
   "source": [
    "### Visualize the predictions"
   ]
  },
  {
   "cell_type": "code",
   "execution_count": null,
   "metadata": {},
   "outputs": [
    {
     "name": "stdout",
     "output_type": "stream",
     "text": [
      "Index:  7672\n",
      "Prediction:  5\n",
      "Actual:  5\n"
     ]
    },
    {
     "data": {
      "text/plain": [
       "<matplotlib.image.AxesImage at 0x202f05faf40>"
      ]
     },
     "execution_count": 34,
     "metadata": {},
     "output_type": "execute_result"
    },
    {
     "data": {
      "image/png": "[encoded data removed]",
      "text/plain": [
       "<Figure size 432x288 with 1 Axes>"
      ]
     },
     "metadata": {
      "needs_background": "light"
     },
     "output_type": "display_data"
    }
   ],
   "source": [
    "idx = random.randint(0,9500)\n",
    "print(\"Index: \",idx)\n",
    "print(\"Prediction: \", np.argmax(predictions[idx]))\n",
    "print(\"Actual: \", y_test[idx])\n",
    "plt.imshow(x_test[idx].reshape(28,28))"
   ]
  },
  {
   "cell_type": "markdown",
   "metadata": {},
   "source": [
    "### Export model as .h5 and tfjs"
   ]
  },
  {
   "cell_type": "code",
   "execution_count": 14,
   "metadata": {},
   "outputs": [],
   "source": [
    "import h5py as h5\n",
    "h5.get_config().default_file_mode = 'r'\n",
    "import tensorflowjs as tfjs\n",
    "model.save('ocr.h5')\n",
    "tfjs.converters.save_keras_model(model, 'model')"
   ]
  },
  {
   "cell_type": "code",
   "execution_count": 15,
   "metadata": {},
   "outputs": [],
   "source": [
    "ocr_model = tf.keras.models.load_model('ocr.h5')"
   ]
  },
  {
   "cell_type": "code",
   "execution_count": 16,
   "metadata": {},
   "outputs": [],
   "source": [
    "IMG_SIZE = 28\n",
    "from skimage.transform import rescale, resize, downscale_local_mean"
   ]
  },
  {
   "cell_type": "code",
   "execution_count": 17,
   "metadata": {},
   "outputs": [
    {
     "data": {
      "text/plain": [
       "7"
      ]
     },
     "execution_count": 17,
     "metadata": {},
     "output_type": "execute_result"
    },
    {
     "data": {
      "image/png": "[encoded data removed]",
      "text/plain": [
       "<Figure size 432x288 with 1 Axes>"
      ]
     },
     "metadata": {
      "needs_background": "light"
     },
     "output_type": "display_data"
    }
   ],
   "source": [
    "data = np.loadtxt('image.txt')\n",
    "image_resized = data.reshape(28,28)\n",
    "#image_resized = resize(image_resized, (IMG_SIZE, IMG_SIZE), anti_aliasing=False)\n",
    "#image_resized = tf.keras.utils.normalize(image_resized, axis=1)\n",
    "plt.imshow(image_resized)\n",
    "image_resized = image_resized.reshape(1,IMG_SIZE,IMG_SIZE,1)\n",
    "val = ocr_model.predict(image_resized)\n",
    "np.argmax(val[0])"
   ]
  },
  {
   "cell_type": "code",
   "execution_count": null,
   "metadata": {},
   "outputs": [],
   "source": []
  }
 ],
 "metadata": {
  "kernelspec": {
   "display_name": "Python 3",
   "language": "python",
   "name": "python3"
  },
  "language_info": {
   "codemirror_mode": {
    "name": "ipython",
    "version": 3
   },
   "file_extension": ".py",
   "mimetype": "text/x-python",
   "name": "python",
   "nbconvert_exporter": "python",
   "pygments_lexer": "ipython3",
   "version": "3.8.2"
  }
 },
 "nbformat": 4,
 "nbformat_minor": 4
}
